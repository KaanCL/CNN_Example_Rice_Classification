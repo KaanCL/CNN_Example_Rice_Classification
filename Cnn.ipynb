{
 "cells": [
  {
   "cell_type": "markdown",
   "metadata": {},
   "source": [
    "# 1 | Importıng Modules"
   ]
  },
  {
   "cell_type": "code",
   "execution_count": 34,
   "metadata": {},
   "outputs": [],
   "source": [
    "\n",
    "import os\n",
    "import numpy as np\n",
    "import pandas as pd\n",
    "import tensorflow as tf\n",
    "from tensorflow import keras\n",
    "from IPython.display import clear_output\n",
    "\n",
    "from tensorflow.keras.preprocessing.image import ImageDataGenerator\n",
    "\n",
    "import random\n",
    "\n",
    "import plotly.express as px\n",
    "import matplotlib.pyplot as plt\n",
    "import seaborn as sns\n",
    "import cv2\n",
    "\n",
    "from keras import Sequential\n",
    "from keras.layers import GlobalAveragePooling2D, Dropout, Dense, BatchNormalization, Conv2D, MaxPooling2D\n",
    "from keras.callbacks import EarlyStopping, ModelCheckpoint\n",
    "\n",
    "from keras.callbacks import EarlyStopping, ModelCheckpoint\n"
   ]
  },
  {
   "cell_type": "markdown",
   "metadata": {},
   "source": [
    "# 2 | EDA"
   ]
  },
  {
   "cell_type": "code",
   "execution_count": null,
   "metadata": {},
   "outputs": [],
   "source": [
    "rootPath = 'dataset/Rice_Image_Dataset'\n",
    "class_names = sorted(os.listdir(rootPath))[:-2]\n",
    "class_names"
   ]
  },
  {
   "cell_type": "code",
   "execution_count": null,
   "metadata": {},
   "outputs": [],
   "source": [
    "sizes = [len(os.listdir(rootPath + '/' + name)) for name in class_names]\n",
    "sizes"
   ]
  },
  {
   "cell_type": "code",
   "execution_count": null,
   "metadata": {},
   "outputs": [],
   "source": [
    "fig = px.pie(\n",
    "     names= class_names,\n",
    "     values = sizes,\n",
    "     width = 450 ,\n",
    "     title='Class Distribution',\n",
    "     hole=0.4\n",
    ")\n",
    "fig.update_layout({'title':{'x':0.45}})\n",
    "fig.show()\n"
   ]
  },
  {
   "cell_type": "code",
   "execution_count": 38,
   "metadata": {},
   "outputs": [],
   "source": [
    "def load_random_img(dir,label):\n",
    "    plt.figure(figsize=(10,10))\n",
    "    i=0\n",
    "    for label in class_names:\n",
    "        i+=1\n",
    "        plt.subplot(1,5,i)\n",
    "        file = random.choice(os.listdir(f'{dir}/{label}'))\n",
    "        print(file)\n",
    "        image_path = os.path.join(f'{dir}/{label}', file)\n",
    "        print(image_path)\n",
    "\n",
    "        img=cv2.imread(image_path)\n",
    "        plt.title(label)\n",
    "        plt.imshow(img)\n",
    "        plt.grid(None)\n",
    "        plt.axis('off')\n"
   ]
  },
  {
   "cell_type": "code",
   "execution_count": null,
   "metadata": {},
   "outputs": [],
   "source": [
    "for i in range(3):\n",
    "    load_random_img(rootPath, class_names)\n"
   ]
  },
  {
   "cell_type": "markdown",
   "metadata": {},
   "source": [
    "# 3 | Data Spliting"
   ]
  },
  {
   "cell_type": "code",
   "execution_count": null,
   "metadata": {},
   "outputs": [],
   "source": [
    "pip install split-folders --break-system-packages"
   ]
  },
  {
   "cell_type": "code",
   "execution_count": 41,
   "metadata": {},
   "outputs": [],
   "source": [
    "import splitfolders\n",
    "\n",
    "#(Train_Val_Test)\n",
    "\n",
    "splitfolders.ratio(rootPath, output='rice_imgs', seed=123, ratio=(.7,.15,.15), group_prefix=None)\n"
   ]
  },
  {
   "cell_type": "code",
   "execution_count": 42,
   "metadata": {},
   "outputs": [],
   "source": [
    "batch_size = 128\n",
    "img_height , img_width = 256,256\n",
    "input_shape = (img_height, img_width,3)\n"
   ]
  },
  {
   "cell_type": "code",
   "execution_count": 43,
   "metadata": {},
   "outputs": [],
   "source": [
    "# Data Pre-processing\n",
    "# ImageDataGenerator can read images from disk and preprocess them into proper tensors.\n",
    "# It will also set up generators that convert these images into batches of tensors—helpful when training the network.\n",
    "\n",
    "datagen = ImageDataGenerator(rescale=1./255)"
   ]
  },
  {
   "cell_type": "code",
   "execution_count": null,
   "metadata": {},
   "outputs": [],
   "source": [
    "#After defining the generators for training and validation images, \n",
    "# the flow_from_directory method load images from the disk, applies rescaling,\n",
    "# and resizes the images into the required dimensions.\n",
    "\n",
    "Train = datagen.flow_from_directory(\n",
    "            'rice_imgs/train',\n",
    "            target_size = (img_height,img_width),\n",
    "            batch_size = batch_size,\n",
    "            subset = \"training\",\n",
    "            class_mode='categorical')\n",
    "\n",
    "Val = datagen.flow_from_directory(\n",
    "            'rice_imgs/val',\n",
    "            target_size = (img_height,img_width),\n",
    "            batch_size = batch_size,\n",
    "            class_mode='categorical',\n",
    "            shuffle =False)\n",
    "\n",
    "Test = datagen.flow_from_directory(\n",
    "            'rice_imgs/test',\n",
    "            target_size = (img_height, img_width),\n",
    "            batch_size = batch_size,\n",
    "            class_mode='categorical',\n",
    "            shuffle=False)\n",
    "\n"
   ]
  },
  {
   "cell_type": "markdown",
   "metadata": {},
   "source": [
    "# 4 | CNN MODEL"
   ]
  },
  {
   "cell_type": "code",
   "execution_count": null,
   "metadata": {},
   "outputs": [],
   "source": [
    "CNN = tf.keras.models.Sequential()\n",
    "\n",
    "# Convolution\n",
    "CNN.add(tf.keras.layers.Conv2D(filters=32,kernel_size=3,activation='relu',input_shape=[256,256,3]))\n",
    "\n",
    "#Pooling\n",
    "CNN.add(tf.keras.layers.MaxPool2D(pool_size=2,strides=2))\n",
    "\n",
    "#Flattening\n",
    "CNN.add(tf.keras.layers.Flatten())\n",
    "\n",
    "#Full Conection\n",
    "CNN.add(tf.keras.layers.Dense(units=512,activation='relu'))\n",
    "\n",
    "#Output layer\n",
    "CNN.add(tf.keras.layers.Dense(units=5, activation='sigmoid'))\n",
    "\n"
   ]
  },
  {
   "cell_type": "code",
   "execution_count": 46,
   "metadata": {},
   "outputs": [],
   "source": [
    "CNN.compile(optimizer='adam', loss='binary_crossentropy' , metrics=['accuracy'])"
   ]
  },
  {
   "cell_type": "code",
   "execution_count": null,
   "metadata": {},
   "outputs": [],
   "source": [
    "Model = CNN.fit(x=Train, validation_data=Val, epochs=3)"
   ]
  },
  {
   "cell_type": "code",
   "execution_count": null,
   "metadata": {},
   "outputs": [],
   "source": [
    "CNN.summary()"
   ]
  },
  {
   "cell_type": "code",
   "execution_count": null,
   "metadata": {},
   "outputs": [],
   "source": [
    "score = CNN.evaluate(Test, verbose=1)\n",
    "print(f'Model Loss: {score[0]}, Accuracy: {score[1]*100}')"
   ]
  },
  {
   "cell_type": "markdown",
   "metadata": {},
   "source": [
    "# 5 | Evaluation"
   ]
  },
  {
   "cell_type": "code",
   "execution_count": 21,
   "metadata": {},
   "outputs": [],
   "source": [
    "from sklearn.metrics import classification_report,confusion_matrix"
   ]
  },
  {
   "cell_type": "code",
   "execution_count": null,
   "metadata": {},
   "outputs": [],
   "source": [
    "Y_pred = CNN.predict(Test)\n",
    "y_pred = np.argmax(Y_pred,axis=1)\n",
    "print(Test)\n",
    "confusion_mtx = confusion_matrix(y_pred,Test.classes)\n",
    "f,ax = plt.subplots(figsize=(6, 6))\n",
    "sns.heatmap(confusion_mtx, annot=True, \n",
    "            linewidths=0.01,\n",
    "            linecolor=\"white\", \n",
    "            fmt= '.1f',ax=ax, cmap=plt.cm.Accent_r)\n",
    "\n",
    "plt.xlabel(\"Predicted Label\")\n",
    "plt.ylabel(\"True Label\")\n",
    "ax.xaxis.set_ticklabels(Test.class_indices)\n",
    "ax.yaxis.set_ticklabels(class_names)\n",
    "plt.title(\"Confusion Matrix\")\n",
    "plt.show()\n"
   ]
  },
  {
   "cell_type": "code",
   "execution_count": null,
   "metadata": {},
   "outputs": [],
   "source": [
    "plt.figure(figsize=(10, 10))\n",
    "#The next function returns a batch from the dataset. The return value is in form of (training features and labels)\n",
    "x, label = next(Train)\n",
    "for i in range(12):\n",
    "    plt.subplot(3, 4, i+1)\n",
    "    plt.imshow(x[i])\n",
    "    result = np.where(label[i]==1)\n",
    "    predict = CNN(tf.expand_dims(x[i], 0))\n",
    "    score = tf.nn.softmax(predict[0])\n",
    "    score_label = class_names[np.argmax(score)]\n",
    "    plt.title(f'Truth: {class_names[result[0][0]]}\\nPrediction:{score_label}')\n",
    "    plt.axis(False)"
   ]
  },
  {
   "cell_type": "code",
   "execution_count": null,
   "metadata": {},
   "outputs": [],
   "source": [
    "testImage = tf.keras.utils.load_img(rootPath+\"/Basmati/basmati (21).jpg\",target_size=(256,256))\n",
    "testImage"
   ]
  },
  {
   "cell_type": "code",
   "execution_count": null,
   "metadata": {},
   "outputs": [],
   "source": [
    "testImage = tf.keras.utils.img_to_array(testImage)\n",
    "testImage = np.expand_dims(testImage,axis=0)\n",
    "Result = CNN.predict(testImage)\n",
    "print(Result)"
   ]
  }
 ],
 "metadata": {
  "kernelspec": {
   "display_name": "Python 3",
   "language": "python",
   "name": "python3"
  },
  "language_info": {
   "codemirror_mode": {
    "name": "ipython",
    "version": 3
   },
   "file_extension": ".py",
   "mimetype": "text/x-python",
   "name": "python",
   "nbconvert_exporter": "python",
   "pygments_lexer": "ipython3",
   "version": "3.12.3"
  }
 },
 "nbformat": 4,
 "nbformat_minor": 2
}
